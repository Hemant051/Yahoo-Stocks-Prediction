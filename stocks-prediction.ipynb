{
 "cells": [
  {
   "cell_type": "code",
   "execution_count": 1,
   "id": "a591ecbc",
   "metadata": {
    "_cell_guid": "b1076dfc-b9ad-4769-8c92-a6c4dae69d19",
    "_uuid": "8f2839f25d086af736a60e9eeb907d3b93b6e0e5",
    "execution": {
     "iopub.execute_input": "2022-04-05T16:33:41.727463Z",
     "iopub.status.busy": "2022-04-05T16:33:41.725932Z",
     "iopub.status.idle": "2022-04-05T16:33:47.686222Z",
     "shell.execute_reply": "2022-04-05T16:33:47.685651Z",
     "shell.execute_reply.started": "2022-04-04T16:37:38.40444Z"
    },
    "papermill": {
     "duration": 5.982655,
     "end_time": "2022-04-05T16:33:47.686394",
     "exception": false,
     "start_time": "2022-04-05T16:33:41.703739",
     "status": "completed"
    },
    "tags": []
   },
   "outputs": [],
   "source": [
    "# importing libraries\n",
    "import math\n",
    "import numpy as np\n",
    "import pandas as pd\n",
    "import pandas_datareader as pdd\n",
    "from sklearn.preprocessing import MinMaxScaler\n",
    "from keras.models import Sequential\n",
    "from keras.layers import Dense, LSTM\n",
    "import matplotlib.pyplot as plt\n",
    "from tensorflow.keras.callbacks import EarlyStopping, ModelCheckpoint"
   ]
  },
  {
   "cell_type": "code",
   "execution_count": 2,
   "id": "d71b868f",
   "metadata": {
    "execution": {
     "iopub.execute_input": "2022-04-05T16:33:47.728188Z",
     "iopub.status.busy": "2022-04-05T16:33:47.727231Z",
     "iopub.status.idle": "2022-04-05T16:33:48.908468Z",
     "shell.execute_reply": "2022-04-05T16:33:48.908030Z",
     "shell.execute_reply.started": "2022-04-04T16:37:38.446426Z"
    },
    "papermill": {
     "duration": 1.20476,
     "end_time": "2022-04-05T16:33:48.908607",
     "exception": false,
     "start_time": "2022-04-05T16:33:47.703847",
     "status": "completed"
    },
    "tags": []
   },
   "outputs": [
    {
     "data": {
      "text/html": [
       "<div>\n",
       "<style scoped>\n",
       "    .dataframe tbody tr th:only-of-type {\n",
       "        vertical-align: middle;\n",
       "    }\n",
       "\n",
       "    .dataframe tbody tr th {\n",
       "        vertical-align: top;\n",
       "    }\n",
       "\n",
       "    .dataframe thead th {\n",
       "        text-align: right;\n",
       "    }\n",
       "</style>\n",
       "<table border=\"1\" class=\"dataframe\">\n",
       "  <thead>\n",
       "    <tr style=\"text-align: right;\">\n",
       "      <th></th>\n",
       "      <th>High</th>\n",
       "      <th>Low</th>\n",
       "      <th>Open</th>\n",
       "      <th>Close</th>\n",
       "      <th>Volume</th>\n",
       "      <th>Adj Close</th>\n",
       "    </tr>\n",
       "    <tr>\n",
       "      <th>Date</th>\n",
       "      <th></th>\n",
       "      <th></th>\n",
       "      <th></th>\n",
       "      <th></th>\n",
       "      <th></th>\n",
       "      <th></th>\n",
       "    </tr>\n",
       "  </thead>\n",
       "  <tbody>\n",
       "    <tr>\n",
       "      <th>2015-01-02</th>\n",
       "      <td>27.860001</td>\n",
       "      <td>26.837500</td>\n",
       "      <td>27.847500</td>\n",
       "      <td>27.332500</td>\n",
       "      <td>212818400.0</td>\n",
       "      <td>24.714504</td>\n",
       "    </tr>\n",
       "    <tr>\n",
       "      <th>2015-01-05</th>\n",
       "      <td>27.162500</td>\n",
       "      <td>26.352501</td>\n",
       "      <td>27.072500</td>\n",
       "      <td>26.562500</td>\n",
       "      <td>257142000.0</td>\n",
       "      <td>24.018261</td>\n",
       "    </tr>\n",
       "    <tr>\n",
       "      <th>2015-01-06</th>\n",
       "      <td>26.857500</td>\n",
       "      <td>26.157499</td>\n",
       "      <td>26.635000</td>\n",
       "      <td>26.565001</td>\n",
       "      <td>263188400.0</td>\n",
       "      <td>24.020521</td>\n",
       "    </tr>\n",
       "    <tr>\n",
       "      <th>2015-01-07</th>\n",
       "      <td>27.049999</td>\n",
       "      <td>26.674999</td>\n",
       "      <td>26.799999</td>\n",
       "      <td>26.937500</td>\n",
       "      <td>160423600.0</td>\n",
       "      <td>24.357342</td>\n",
       "    </tr>\n",
       "    <tr>\n",
       "      <th>2015-01-08</th>\n",
       "      <td>28.037500</td>\n",
       "      <td>27.174999</td>\n",
       "      <td>27.307501</td>\n",
       "      <td>27.972500</td>\n",
       "      <td>237458000.0</td>\n",
       "      <td>25.293205</td>\n",
       "    </tr>\n",
       "    <tr>\n",
       "      <th>...</th>\n",
       "      <td>...</td>\n",
       "      <td>...</td>\n",
       "      <td>...</td>\n",
       "      <td>...</td>\n",
       "      <td>...</td>\n",
       "      <td>...</td>\n",
       "    </tr>\n",
       "    <tr>\n",
       "      <th>2022-03-25</th>\n",
       "      <td>175.279999</td>\n",
       "      <td>172.750000</td>\n",
       "      <td>173.880005</td>\n",
       "      <td>174.720001</td>\n",
       "      <td>80546200.0</td>\n",
       "      <td>174.720001</td>\n",
       "    </tr>\n",
       "    <tr>\n",
       "      <th>2022-03-28</th>\n",
       "      <td>175.729996</td>\n",
       "      <td>172.000000</td>\n",
       "      <td>172.169998</td>\n",
       "      <td>175.600006</td>\n",
       "      <td>90371900.0</td>\n",
       "      <td>175.600006</td>\n",
       "    </tr>\n",
       "    <tr>\n",
       "      <th>2022-03-29</th>\n",
       "      <td>179.009995</td>\n",
       "      <td>176.339996</td>\n",
       "      <td>176.690002</td>\n",
       "      <td>178.960007</td>\n",
       "      <td>100589400.0</td>\n",
       "      <td>178.960007</td>\n",
       "    </tr>\n",
       "    <tr>\n",
       "      <th>2022-03-30</th>\n",
       "      <td>179.610001</td>\n",
       "      <td>176.699997</td>\n",
       "      <td>178.550003</td>\n",
       "      <td>177.770004</td>\n",
       "      <td>92633200.0</td>\n",
       "      <td>177.770004</td>\n",
       "    </tr>\n",
       "    <tr>\n",
       "      <th>2022-03-31</th>\n",
       "      <td>178.029999</td>\n",
       "      <td>174.399994</td>\n",
       "      <td>177.839996</td>\n",
       "      <td>174.610001</td>\n",
       "      <td>103049300.0</td>\n",
       "      <td>174.610001</td>\n",
       "    </tr>\n",
       "  </tbody>\n",
       "</table>\n",
       "<p>1825 rows × 6 columns</p>\n",
       "</div>"
      ],
      "text/plain": [
       "                  High         Low        Open       Close       Volume  \\\n",
       "Date                                                                      \n",
       "2015-01-02   27.860001   26.837500   27.847500   27.332500  212818400.0   \n",
       "2015-01-05   27.162500   26.352501   27.072500   26.562500  257142000.0   \n",
       "2015-01-06   26.857500   26.157499   26.635000   26.565001  263188400.0   \n",
       "2015-01-07   27.049999   26.674999   26.799999   26.937500  160423600.0   \n",
       "2015-01-08   28.037500   27.174999   27.307501   27.972500  237458000.0   \n",
       "...                ...         ...         ...         ...          ...   \n",
       "2022-03-25  175.279999  172.750000  173.880005  174.720001   80546200.0   \n",
       "2022-03-28  175.729996  172.000000  172.169998  175.600006   90371900.0   \n",
       "2022-03-29  179.009995  176.339996  176.690002  178.960007  100589400.0   \n",
       "2022-03-30  179.610001  176.699997  178.550003  177.770004   92633200.0   \n",
       "2022-03-31  178.029999  174.399994  177.839996  174.610001  103049300.0   \n",
       "\n",
       "             Adj Close  \n",
       "Date                    \n",
       "2015-01-02   24.714504  \n",
       "2015-01-05   24.018261  \n",
       "2015-01-06   24.020521  \n",
       "2015-01-07   24.357342  \n",
       "2015-01-08   25.293205  \n",
       "...                ...  \n",
       "2022-03-25  174.720001  \n",
       "2022-03-28  175.600006  \n",
       "2022-03-29  178.960007  \n",
       "2022-03-30  177.770004  \n",
       "2022-03-31  174.610001  \n",
       "\n",
       "[1825 rows x 6 columns]"
      ]
     },
     "execution_count": 2,
     "metadata": {},
     "output_type": "execute_result"
    }
   ],
   "source": [
    "# Reading the stocks data of Yahoo from 2015 january to 2022 march \n",
    "df = pdd.DataReader('AAPL', data_source='yahoo', start='2015-01-01', end='2022-03-31')\n",
    "df"
   ]
  },
  {
   "cell_type": "code",
   "execution_count": 3,
   "id": "16f13fa3",
   "metadata": {
    "execution": {
     "iopub.execute_input": "2022-04-05T16:33:48.946482Z",
     "iopub.status.busy": "2022-04-05T16:33:48.945688Z",
     "iopub.status.idle": "2022-04-05T16:33:49.304111Z",
     "shell.execute_reply": "2022-04-05T16:33:49.304590Z",
     "shell.execute_reply.started": "2022-04-04T16:37:39.723765Z"
    },
    "papermill": {
     "duration": 0.378673,
     "end_time": "2022-04-05T16:33:49.304752",
     "exception": false,
     "start_time": "2022-04-05T16:33:48.926079",
     "status": "completed"
    },
    "tags": []
   },
   "outputs": [
    {
     "data": {
      "text/plain": [
       "<function matplotlib.pyplot.show(close=None, block=None)>"
      ]
     },
     "execution_count": 3,
     "metadata": {},
     "output_type": "execute_result"
    },
    {
     "data": {
      "image/png": "[encoded data removed]",
      "text/plain": [
       "<Figure size 1152x576 with 1 Axes>"
      ]
     },
     "metadata": {
      "needs_background": "light"
     },
     "output_type": "display_data"
    }
   ],
   "source": [
    "# plotting a graph for the visualisation of the selected dataset\n",
    "plt.figure(figsize=(16,8))\n",
    "plt.title('Close Price Movement', fontsize = 21,color='brown')\n",
    "plt.plot(df[\"Close\"],color='green')\n",
    "plt.xlabel('Data',fontsize = 18,color='blue')\n",
    "plt.ylabel('Close Price in $', fontsize = 18,color='purple')\n",
    "plt.show"
   ]
  },
  {
   "cell_type": "code",
   "execution_count": 4,
   "id": "be2edfc0",
   "metadata": {
    "execution": {
     "iopub.execute_input": "2022-04-05T16:33:49.355032Z",
     "iopub.status.busy": "2022-04-05T16:33:49.354245Z",
     "iopub.status.idle": "2022-04-05T16:33:49.357262Z",
     "shell.execute_reply": "2022-04-05T16:33:49.357737Z",
     "shell.execute_reply.started": "2022-04-04T16:37:40.071045Z"
    },
    "papermill": {
     "duration": 0.031495,
     "end_time": "2022-04-05T16:33:49.357879",
     "exception": false,
     "start_time": "2022-04-05T16:33:49.326384",
     "status": "completed"
    },
    "tags": []
   },
   "outputs": [
    {
     "data": {
      "text/plain": [
       "1825"
      ]
     },
     "execution_count": 4,
     "metadata": {},
     "output_type": "execute_result"
    }
   ],
   "source": [
    "# Getting Closing Value Column\n",
    "data = df.filter(['Close'])\n",
    "dataset = data.values\n",
    "len(dataset)"
   ]
  },
  {
   "cell_type": "code",
   "execution_count": 5,
   "id": "f7996236",
   "metadata": {
    "execution": {
     "iopub.execute_input": "2022-04-05T16:33:49.404329Z",
     "iopub.status.busy": "2022-04-05T16:33:49.403693Z",
     "iopub.status.idle": "2022-04-05T16:33:49.406351Z",
     "shell.execute_reply": "2022-04-05T16:33:49.406800Z",
     "shell.execute_reply.started": "2022-04-04T16:37:40.083375Z"
    },
    "papermill": {
     "duration": 0.027632,
     "end_time": "2022-04-05T16:33:49.406925",
     "exception": false,
     "start_time": "2022-04-05T16:33:49.379293",
     "status": "completed"
    },
    "tags": []
   },
   "outputs": [
    {
     "data": {
      "text/plain": [
       "1278"
      ]
     },
     "execution_count": 5,
     "metadata": {},
     "output_type": "execute_result"
    }
   ],
   "source": [
    "# Selecting Training data (70% of the whole data)\n",
    "training_data_size = math.ceil(len(dataset)*.7)\n",
    "training_data_size"
   ]
  },
  {
   "cell_type": "code",
   "execution_count": 6,
   "id": "088139b0",
   "metadata": {
    "execution": {
     "iopub.execute_input": "2022-04-05T16:33:49.451621Z",
     "iopub.status.busy": "2022-04-05T16:33:49.450184Z",
     "iopub.status.idle": "2022-04-05T16:33:49.454985Z",
     "shell.execute_reply": "2022-04-05T16:33:49.454588Z",
     "shell.execute_reply.started": "2022-04-04T16:37:40.096204Z"
    },
    "papermill": {
     "duration": 0.028785,
     "end_time": "2022-04-05T16:33:49.455089",
     "exception": false,
     "start_time": "2022-04-05T16:33:49.426304",
     "status": "completed"
    },
    "tags": []
   },
   "outputs": [
    {
     "data": {
      "text/plain": [
       "array([[0.0297789 ],\n",
       "       [0.02494904],\n",
       "       [0.02496473],\n",
       "       ...,\n",
       "       [0.98086882],\n",
       "       [0.97340448],\n",
       "       [0.95358323]])"
      ]
     },
     "execution_count": 6,
     "metadata": {},
     "output_type": "execute_result"
    }
   ],
   "source": [
    "# Normalising the data using MinMaxScaler\n",
    "scaler = MinMaxScaler(feature_range=(0,1))\n",
    "scaled_data = scaler.fit_transform(dataset)\n",
    "scaled_data"
   ]
  },
  {
   "cell_type": "code",
   "execution_count": 7,
   "id": "540bec95",
   "metadata": {
    "execution": {
     "iopub.execute_input": "2022-04-05T16:33:49.498000Z",
     "iopub.status.busy": "2022-04-05T16:33:49.497229Z",
     "iopub.status.idle": "2022-04-05T16:33:49.508055Z",
     "shell.execute_reply": "2022-04-05T16:33:49.508638Z",
     "shell.execute_reply.started": "2022-04-04T16:37:40.108623Z"
    },
    "papermill": {
     "duration": 0.034061,
     "end_time": "2022-04-05T16:33:49.508810",
     "exception": false,
     "start_time": "2022-04-05T16:33:49.474749",
     "status": "completed"
    },
    "tags": []
   },
   "outputs": [
    {
     "name": "stdout",
     "output_type": "stream",
     "text": [
      "[array([0.0297789 , 0.02494904, 0.02496473, 0.02730125, 0.03379333,\n",
      "       0.03398151, 0.02965345, 0.03117454, 0.03051593, 0.02584288,\n",
      "       0.02454132, 0.02882234, 0.03012389, 0.03459308, 0.0355026 ,\n",
      "       0.03569077, 0.02948095, 0.03915635, 0.04478596, 0.04205741,\n",
      "       0.04436256, 0.04439393, 0.04582092, 0.04641682, 0.044833  ,\n",
      "       0.04607183, 0.04967853, 0.0541634 , 0.05664106, 0.05761331,\n",
      "       0.05878941, 0.06018505, 0.05976165, 0.06140819, 0.06689667,\n",
      "       0.06559511, 0.06029481, 0.06285087, 0.05977734, 0.06076525,\n",
      "       0.06118866, 0.05990277, 0.05656266, 0.0568606 , 0.05770739,\n",
      "       0.0535832 , 0.05002353, 0.0534891 , 0.05214051, 0.05427317,\n",
      "       0.05755058, 0.05979302, 0.05827192, 0.05576291, 0.05781716,\n",
      "       0.05700174, 0.0518112 , 0.0531598 , 0.05160735, 0.05649993])]\n",
      "[0.053457746504823156]\n",
      "[array([0.0297789 , 0.02494904, 0.02496473, 0.02730125, 0.03379333,\n",
      "       0.03398151, 0.02965345, 0.03117454, 0.03051593, 0.02584288,\n",
      "       0.02454132, 0.02882234, 0.03012389, 0.03459308, 0.0355026 ,\n",
      "       0.03569077, 0.02948095, 0.03915635, 0.04478596, 0.04205741,\n",
      "       0.04436256, 0.04439393, 0.04582092, 0.04641682, 0.044833  ,\n",
      "       0.04607183, 0.04967853, 0.0541634 , 0.05664106, 0.05761331,\n",
      "       0.05878941, 0.06018505, 0.05976165, 0.06140819, 0.06689667,\n",
      "       0.06559511, 0.06029481, 0.06285087, 0.05977734, 0.06076525,\n",
      "       0.06118866, 0.05990277, 0.05656266, 0.0568606 , 0.05770739,\n",
      "       0.0535832 , 0.05002353, 0.0534891 , 0.05214051, 0.05427317,\n",
      "       0.05755058, 0.05979302, 0.05827192, 0.05576291, 0.05781716,\n",
      "       0.05700174, 0.0518112 , 0.0531598 , 0.05160735, 0.05649993]), array([0.02494904, 0.02496473, 0.02730125, 0.03379333, 0.03398151,\n",
      "       0.02965345, 0.03117454, 0.03051593, 0.02584288, 0.02454132,\n",
      "       0.02882234, 0.03012389, 0.03459308, 0.0355026 , 0.03569077,\n",
      "       0.02948095, 0.03915635, 0.04478596, 0.04205741, 0.04436256,\n",
      "       0.04439393, 0.04582092, 0.04641682, 0.044833  , 0.04607183,\n",
      "       0.04967853, 0.0541634 , 0.05664106, 0.05761331, 0.05878941,\n",
      "       0.06018505, 0.05976165, 0.06140819, 0.06689667, 0.06559511,\n",
      "       0.06029481, 0.06285087, 0.05977734, 0.06076525, 0.06118866,\n",
      "       0.05990277, 0.05656266, 0.0568606 , 0.05770739, 0.0535832 ,\n",
      "       0.05002353, 0.0534891 , 0.05214051, 0.05427317, 0.05755058,\n",
      "       0.05979302, 0.05827192, 0.05576291, 0.05781716, 0.05700174,\n",
      "       0.0518112 , 0.0531598 , 0.05160735, 0.05649993, 0.05345775])]\n",
      "[0.053457746504823156, 0.0531754816305183]\n"
     ]
    }
   ],
   "source": [
    "#Specifying the shape of input (we will be using 60 observations of the samples in this case)\n",
    "train_data = scaled_data[0:training_data_size, :]\n",
    "x_train = []\n",
    "y_train = []\n",
    "for i in range(60, len(train_data)):\n",
    "    x_train.append(train_data[i-60:i, 0])\n",
    "    y_train.append(train_data[i,0])\n",
    "    if i<=61:\n",
    "        print(x_train)\n",
    "        print(y_train)"
   ]
  },
  {
   "cell_type": "code",
   "execution_count": 8,
   "id": "2d1311f1",
   "metadata": {
    "execution": {
     "iopub.execute_input": "2022-04-05T16:33:49.556796Z",
     "iopub.status.busy": "2022-04-05T16:33:49.556020Z",
     "iopub.status.idle": "2022-04-05T16:33:49.561458Z",
     "shell.execute_reply": "2022-04-05T16:33:49.561891Z",
     "shell.execute_reply.started": "2022-04-04T16:37:40.127752Z"
    },
    "papermill": {
     "duration": 0.03195,
     "end_time": "2022-04-05T16:33:49.562026",
     "exception": false,
     "start_time": "2022-04-05T16:33:49.530076",
     "status": "completed"
    },
    "tags": []
   },
   "outputs": [
    {
     "data": {
      "text/plain": [
       "(1218, 60, 1)"
      ]
     },
     "execution_count": 8,
     "metadata": {},
     "output_type": "execute_result"
    }
   ],
   "source": [
    "# Converting x_train and y_train into numpy array for training the LSTM Model\n",
    "x_train, y_train = np.array(x_train), np.array(y_train)\n",
    "# Converting the data into 3D from 2D as LSTM works on 3D data\n",
    "x_train = np.reshape(x_train, (x_train.shape[0],x_train.shape[1], 1))\n",
    "x_train.shape"
   ]
  },
  {
   "cell_type": "code",
   "execution_count": 9,
   "id": "06203810",
   "metadata": {
    "execution": {
     "iopub.execute_input": "2022-04-05T16:33:49.609139Z",
     "iopub.status.busy": "2022-04-05T16:33:49.608439Z",
     "iopub.status.idle": "2022-04-05T16:33:52.217422Z",
     "shell.execute_reply": "2022-04-05T16:33:52.216910Z",
     "shell.execute_reply.started": "2022-04-04T16:37:40.14278Z"
    },
    "papermill": {
     "duration": 2.634769,
     "end_time": "2022-04-05T16:33:52.217579",
     "exception": false,
     "start_time": "2022-04-05T16:33:49.582810",
     "status": "completed"
    },
    "tags": []
   },
   "outputs": [
    {
     "name": "stderr",
     "output_type": "stream",
     "text": [
      "2022-04-05 16:33:49.678861: I tensorflow/stream_executor/cuda/cuda_gpu_executor.cc:937] successful NUMA node read from SysFS had negative value (-1), but there must be at least one NUMA node, so returning NUMA node zero\n",
      "2022-04-05 16:33:49.769198: I tensorflow/stream_executor/cuda/cuda_gpu_executor.cc:937] successful NUMA node read from SysFS had negative value (-1), but there must be at least one NUMA node, so returning NUMA node zero\n",
      "2022-04-05 16:33:49.769942: I tensorflow/stream_executor/cuda/cuda_gpu_executor.cc:937] successful NUMA node read from SysFS had negative value (-1), but there must be at least one NUMA node, so returning NUMA node zero\n",
      "2022-04-05 16:33:49.771178: I tensorflow/core/platform/cpu_feature_guard.cc:142] This TensorFlow binary is optimized with oneAPI Deep Neural Network Library (oneDNN) to use the following CPU instructions in performance-critical operations:  AVX2 AVX512F FMA\n",
      "To enable them in other operations, rebuild TensorFlow with the appropriate compiler flags.\n",
      "2022-04-05 16:33:49.771976: I tensorflow/stream_executor/cuda/cuda_gpu_executor.cc:937] successful NUMA node read from SysFS had negative value (-1), but there must be at least one NUMA node, so returning NUMA node zero\n",
      "2022-04-05 16:33:49.772755: I tensorflow/stream_executor/cuda/cuda_gpu_executor.cc:937] successful NUMA node read from SysFS had negative value (-1), but there must be at least one NUMA node, so returning NUMA node zero\n",
      "2022-04-05 16:33:49.773542: I tensorflow/stream_executor/cuda/cuda_gpu_executor.cc:937] successful NUMA node read from SysFS had negative value (-1), but there must be at least one NUMA node, so returning NUMA node zero\n",
      "2022-04-05 16:33:51.435136: I tensorflow/stream_executor/cuda/cuda_gpu_executor.cc:937] successful NUMA node read from SysFS had negative value (-1), but there must be at least one NUMA node, so returning NUMA node zero\n",
      "2022-04-05 16:33:51.435965: I tensorflow/stream_executor/cuda/cuda_gpu_executor.cc:937] successful NUMA node read from SysFS had negative value (-1), but there must be at least one NUMA node, so returning NUMA node zero\n",
      "2022-04-05 16:33:51.436621: I tensorflow/stream_executor/cuda/cuda_gpu_executor.cc:937] successful NUMA node read from SysFS had negative value (-1), but there must be at least one NUMA node, so returning NUMA node zero\n",
      "2022-04-05 16:33:51.437208: I tensorflow/core/common_runtime/gpu/gpu_device.cc:1510] Created device /job:localhost/replica:0/task:0/device:GPU:0 with 15403 MB memory:  -> device: 0, name: Tesla P100-PCIE-16GB, pci bus id: 0000:00:04.0, compute capability: 6.0\n"
     ]
    }
   ],
   "source": [
    "model = Sequential()\n",
    "model.add(LSTM(50, return_sequences=True, input_shape = (x_train.shape[1], 1)))\n",
    "model.add(LSTM(50, return_sequences=False))\n",
    "model.add(Dense(25))\n",
    "model.add(Dense(1))"
   ]
  },
  {
   "cell_type": "code",
   "execution_count": 10,
   "id": "87496c21",
   "metadata": {
    "execution": {
     "iopub.execute_input": "2022-04-05T16:33:52.266071Z",
     "iopub.status.busy": "2022-04-05T16:33:52.265239Z",
     "iopub.status.idle": "2022-04-05T16:33:52.281830Z",
     "shell.execute_reply": "2022-04-05T16:33:52.281343Z",
     "shell.execute_reply.started": "2022-04-04T16:37:40.661249Z"
    },
    "papermill": {
     "duration": 0.042899,
     "end_time": "2022-04-05T16:33:52.281958",
     "exception": false,
     "start_time": "2022-04-05T16:33:52.239059",
     "status": "completed"
    },
    "tags": []
   },
   "outputs": [],
   "source": [
    "model.compile(optimizer='adam', loss='mean_squared_error')"
   ]
  },
  {
   "cell_type": "code",
   "execution_count": 11,
   "id": "2b48ccfc",
   "metadata": {
    "execution": {
     "iopub.execute_input": "2022-04-05T16:33:52.331396Z",
     "iopub.status.busy": "2022-04-05T16:33:52.330592Z",
     "iopub.status.idle": "2022-04-05T16:35:00.233651Z",
     "shell.execute_reply": "2022-04-05T16:35:00.233060Z",
     "shell.execute_reply.started": "2022-04-04T16:37:40.678571Z"
    },
    "papermill": {
     "duration": 67.928888,
     "end_time": "2022-04-05T16:35:00.233808",
     "exception": false,
     "start_time": "2022-04-05T16:33:52.304920",
     "status": "completed"
    },
    "tags": []
   },
   "outputs": [
    {
     "name": "stderr",
     "output_type": "stream",
     "text": [
      "2022-04-05 16:33:52.372702: I tensorflow/compiler/mlir/mlir_graph_optimization_pass.cc:185] None of the MLIR Optimization Passes are enabled (registered 2)\n"
     ]
    },
    {
     "name": "stdout",
     "output_type": "stream",
     "text": [
      "Epoch 1/8\n"
     ]
    },
    {
     "name": "stderr",
     "output_type": "stream",
     "text": [
      "2022-04-05 16:33:55.067550: I tensorflow/stream_executor/cuda/cuda_dnn.cc:369] Loaded cuDNN version 8005\n"
     ]
    },
    {
     "name": "stdout",
     "output_type": "stream",
     "text": [
      "1218/1218 [==============================] - 12s 7ms/step - loss: 2.0618e-04\n",
      "Epoch 2/8\n",
      "1218/1218 [==============================] - 8s 6ms/step - loss: 1.0775e-04\n",
      "Epoch 3/8\n",
      "1218/1218 [==============================] - 9s 7ms/step - loss: 9.3252e-05\n",
      "Epoch 4/8\n",
      "1218/1218 [==============================] - 8s 7ms/step - loss: 7.3912e-05\n",
      "Epoch 5/8\n",
      "1218/1218 [==============================] - 8s 6ms/step - loss: 9.8482e-05\n",
      "Epoch 6/8\n",
      "1218/1218 [==============================] - 8s 6ms/step - loss: 5.0772e-05\n",
      "Epoch 7/8\n",
      "1218/1218 [==============================] - 8s 7ms/step - loss: 5.4601e-05\n",
      "Epoch 8/8\n",
      "1218/1218 [==============================] - 8s 6ms/step - loss: 3.9020e-05\n"
     ]
    },
    {
     "data": {
      "text/plain": [
       "<keras.callbacks.History at 0x7f312001a810>"
      ]
     },
     "execution_count": 11,
     "metadata": {},
     "output_type": "execute_result"
    }
   ],
   "source": [
    "#callbacks = [EarlyStopping(monitor='val_accuracy', patience=3)]\n",
    "model.fit(x_train,y_train, batch_size=1, epochs=8) #, validation_split = 0.2, callbacks=callbacks"
   ]
  },
  {
   "cell_type": "code",
   "execution_count": 12,
   "id": "ed4f27e1",
   "metadata": {
    "execution": {
     "iopub.execute_input": "2022-04-05T16:35:01.051005Z",
     "iopub.status.busy": "2022-04-05T16:35:01.049314Z",
     "iopub.status.idle": "2022-04-05T16:35:01.051600Z",
     "shell.execute_reply": "2022-04-05T16:35:01.052002Z",
     "shell.execute_reply.started": "2022-04-04T16:38:54.69158Z"
    },
    "papermill": {
     "duration": 0.396096,
     "end_time": "2022-04-05T16:35:01.052139",
     "exception": false,
     "start_time": "2022-04-05T16:35:00.656043",
     "status": "completed"
    },
    "tags": []
   },
   "outputs": [],
   "source": [
    "test_data = scaled_data[training_data_size -60: , :]\n",
    "x_test = []\n",
    "y_test = dataset[training_data_size:, :]\n",
    "for i in range(60, len(test_data)):\n",
    "    x_test.append(test_data[i-60:i,0])"
   ]
  },
  {
   "cell_type": "code",
   "execution_count": 13,
   "id": "f5539661",
   "metadata": {
    "execution": {
     "iopub.execute_input": "2022-04-05T16:35:02.157291Z",
     "iopub.status.busy": "2022-04-05T16:35:02.156475Z",
     "iopub.status.idle": "2022-04-05T16:35:02.158718Z",
     "shell.execute_reply": "2022-04-05T16:35:02.159274Z",
     "shell.execute_reply.started": "2022-04-04T16:38:54.700981Z"
    },
    "papermill": {
     "duration": 0.668476,
     "end_time": "2022-04-05T16:35:02.159446",
     "exception": false,
     "start_time": "2022-04-05T16:35:01.490970",
     "status": "completed"
    },
    "tags": []
   },
   "outputs": [],
   "source": [
    "x_test = np.array(x_test)"
   ]
  },
  {
   "cell_type": "code",
   "execution_count": 14,
   "id": "03d3fa0a",
   "metadata": {
    "execution": {
     "iopub.execute_input": "2022-04-05T16:35:03.024141Z",
     "iopub.status.busy": "2022-04-05T16:35:03.023312Z",
     "iopub.status.idle": "2022-04-05T16:35:03.025074Z",
     "shell.execute_reply": "2022-04-05T16:35:03.025526Z",
     "shell.execute_reply.started": "2022-04-04T16:38:54.715872Z"
    },
    "papermill": {
     "duration": 0.403047,
     "end_time": "2022-04-05T16:35:03.025661",
     "exception": false,
     "start_time": "2022-04-05T16:35:02.622614",
     "status": "completed"
    },
    "tags": []
   },
   "outputs": [],
   "source": [
    "x_test = np.reshape(x_test, (x_test.shape[0],x_test.shape[1],1))"
   ]
  },
  {
   "cell_type": "code",
   "execution_count": 15,
   "id": "ce475f66",
   "metadata": {
    "execution": {
     "iopub.execute_input": "2022-04-05T16:35:03.806126Z",
     "iopub.status.busy": "2022-04-05T16:35:03.805303Z",
     "iopub.status.idle": "2022-04-05T16:35:04.410095Z",
     "shell.execute_reply": "2022-04-05T16:35:04.409622Z",
     "shell.execute_reply.started": "2022-04-04T16:38:54.725239Z"
    },
    "papermill": {
     "duration": 0.997369,
     "end_time": "2022-04-05T16:35:04.410227",
     "exception": false,
     "start_time": "2022-04-05T16:35:03.412858",
     "status": "completed"
    },
    "tags": []
   },
   "outputs": [],
   "source": [
    "predictions = model.predict(x_test)\n",
    "predictions = scaler.inverse_transform(predictions)"
   ]
  },
  {
   "cell_type": "code",
   "execution_count": 16,
   "id": "ccf86a1a",
   "metadata": {
    "execution": {
     "iopub.execute_input": "2022-04-05T16:35:05.193525Z",
     "iopub.status.busy": "2022-04-05T16:35:05.192869Z",
     "iopub.status.idle": "2022-04-05T16:35:05.195702Z",
     "shell.execute_reply": "2022-04-05T16:35:05.196109Z",
     "shell.execute_reply.started": "2022-04-04T16:38:55.485379Z"
    },
    "papermill": {
     "duration": 0.396925,
     "end_time": "2022-04-05T16:35:05.196243",
     "exception": false,
     "start_time": "2022-04-05T16:35:04.799318",
     "status": "completed"
    },
    "tags": []
   },
   "outputs": [
    {
     "data": {
      "text/plain": [
       "0.6115478362200247"
      ]
     },
     "execution_count": 16,
     "metadata": {},
     "output_type": "execute_result"
    }
   ],
   "source": [
    "rmse = np.sqrt(np.mean(predictions - y_test)**2)\n",
    "rmse"
   ]
  },
  {
   "cell_type": "code",
   "execution_count": 17,
   "id": "f2f62395",
   "metadata": {
    "execution": {
     "iopub.execute_input": "2022-04-05T16:35:05.981344Z",
     "iopub.status.busy": "2022-04-05T16:35:05.980637Z",
     "iopub.status.idle": "2022-04-05T16:35:06.319919Z",
     "shell.execute_reply": "2022-04-05T16:35:06.320420Z",
     "shell.execute_reply.started": "2022-04-04T16:38:55.497574Z"
    },
    "papermill": {
     "duration": 0.737332,
     "end_time": "2022-04-05T16:35:06.320586",
     "exception": false,
     "start_time": "2022-04-05T16:35:05.583254",
     "status": "completed"
    },
    "tags": []
   },
   "outputs": [
    {
     "name": "stderr",
     "output_type": "stream",
     "text": [
      "/opt/conda/lib/python3.7/site-packages/ipykernel_launcher.py:3: SettingWithCopyWarning: \n",
      "A value is trying to be set on a copy of a slice from a DataFrame.\n",
      "Try using .loc[row_indexer,col_indexer] = value instead\n",
      "\n",
      "See the caveats in the documentation: https://pandas.pydata.org/pandas-docs/stable/user_guide/indexing.html#returning-a-view-versus-a-copy\n",
      "  This is separate from the ipykernel package so we can avoid doing imports until\n"
     ]
    },
    {
     "data": {
      "text/plain": [
       "<function matplotlib.pyplot.show(close=None, block=None)>"
      ]
     },
     "execution_count": 17,
     "metadata": {},
     "output_type": "execute_result"
    },
    {
     "data": {
      "image/png": "[encoded data removed]",
      "text/plain": [
       "<Figure size 1152x576 with 1 Axes>"
      ]
     },
     "metadata": {
      "needs_background": "light"
     },
     "output_type": "display_data"
    }
   ],
   "source": [
    "train = data[:training_data_size]\n",
    "valid = data[training_data_size:]\n",
    "valid['Predictions'] = predictions\n",
    "plt.figure(figsize=(16,8))\n",
    "plt.title('Model LM')\n",
    "plt.xlabel('Date', fontsize = 18)\n",
    "plt.ylabel('Close Price in $', fontsize=18)\n",
    "plt.plot(train['Close'])\n",
    "plt.plot(valid[['Close','Predictions']])\n",
    "plt.legend(['Train','Val','Predictions'],loc='lower right')\n",
    "plt.show"
   ]
  },
  {
   "cell_type": "code",
   "execution_count": 18,
   "id": "6cd671b2",
   "metadata": {
    "execution": {
     "iopub.execute_input": "2022-04-05T16:35:07.185727Z",
     "iopub.status.busy": "2022-04-05T16:35:07.184524Z",
     "iopub.status.idle": "2022-04-05T16:35:07.187907Z",
     "shell.execute_reply": "2022-04-05T16:35:07.188292Z",
     "shell.execute_reply.started": "2022-04-04T16:38:55.88813Z"
    },
    "papermill": {
     "duration": 0.408453,
     "end_time": "2022-04-05T16:35:07.188462",
     "exception": false,
     "start_time": "2022-04-05T16:35:06.780009",
     "status": "completed"
    },
    "tags": []
   },
   "outputs": [
    {
     "data": {
      "text/html": [
       "<div>\n",
       "<style scoped>\n",
       "    .dataframe tbody tr th:only-of-type {\n",
       "        vertical-align: middle;\n",
       "    }\n",
       "\n",
       "    .dataframe tbody tr th {\n",
       "        vertical-align: top;\n",
       "    }\n",
       "\n",
       "    .dataframe thead th {\n",
       "        text-align: right;\n",
       "    }\n",
       "</style>\n",
       "<table border=\"1\" class=\"dataframe\">\n",
       "  <thead>\n",
       "    <tr style=\"text-align: right;\">\n",
       "      <th></th>\n",
       "      <th>Close</th>\n",
       "      <th>Predictions</th>\n",
       "    </tr>\n",
       "    <tr>\n",
       "      <th>Date</th>\n",
       "      <th></th>\n",
       "      <th></th>\n",
       "    </tr>\n",
       "  </thead>\n",
       "  <tbody>\n",
       "    <tr>\n",
       "      <th>2020-01-31</th>\n",
       "      <td>77.377502</td>\n",
       "      <td>81.588402</td>\n",
       "    </tr>\n",
       "    <tr>\n",
       "      <th>2020-02-03</th>\n",
       "      <td>77.165001</td>\n",
       "      <td>78.129745</td>\n",
       "    </tr>\n",
       "    <tr>\n",
       "      <th>2020-02-04</th>\n",
       "      <td>79.712502</td>\n",
       "      <td>78.293747</td>\n",
       "    </tr>\n",
       "    <tr>\n",
       "      <th>2020-02-05</th>\n",
       "      <td>80.362503</td>\n",
       "      <td>80.571983</td>\n",
       "    </tr>\n",
       "    <tr>\n",
       "      <th>2020-02-06</th>\n",
       "      <td>81.302498</td>\n",
       "      <td>80.963989</td>\n",
       "    </tr>\n",
       "    <tr>\n",
       "      <th>...</th>\n",
       "      <td>...</td>\n",
       "      <td>...</td>\n",
       "    </tr>\n",
       "    <tr>\n",
       "      <th>2022-03-25</th>\n",
       "      <td>174.720001</td>\n",
       "      <td>174.127182</td>\n",
       "    </tr>\n",
       "    <tr>\n",
       "      <th>2022-03-28</th>\n",
       "      <td>175.600006</td>\n",
       "      <td>174.168839</td>\n",
       "    </tr>\n",
       "    <tr>\n",
       "      <th>2022-03-29</th>\n",
       "      <td>178.960007</td>\n",
       "      <td>175.550095</td>\n",
       "    </tr>\n",
       "    <tr>\n",
       "      <th>2022-03-30</th>\n",
       "      <td>177.770004</td>\n",
       "      <td>178.887177</td>\n",
       "    </tr>\n",
       "    <tr>\n",
       "      <th>2022-03-31</th>\n",
       "      <td>174.610001</td>\n",
       "      <td>177.177826</td>\n",
       "    </tr>\n",
       "  </tbody>\n",
       "</table>\n",
       "<p>547 rows × 2 columns</p>\n",
       "</div>"
      ],
      "text/plain": [
       "                 Close  Predictions\n",
       "Date                               \n",
       "2020-01-31   77.377502    81.588402\n",
       "2020-02-03   77.165001    78.129745\n",
       "2020-02-04   79.712502    78.293747\n",
       "2020-02-05   80.362503    80.571983\n",
       "2020-02-06   81.302498    80.963989\n",
       "...                ...          ...\n",
       "2022-03-25  174.720001   174.127182\n",
       "2022-03-28  175.600006   174.168839\n",
       "2022-03-29  178.960007   175.550095\n",
       "2022-03-30  177.770004   178.887177\n",
       "2022-03-31  174.610001   177.177826\n",
       "\n",
       "[547 rows x 2 columns]"
      ]
     },
     "execution_count": 18,
     "metadata": {},
     "output_type": "execute_result"
    }
   ],
   "source": [
    "valid"
   ]
  },
  {
   "cell_type": "code",
   "execution_count": null,
   "id": "c48969c5",
   "metadata": {
    "papermill": {
     "duration": 0.390538,
     "end_time": "2022-04-05T16:35:08.002044",
     "exception": false,
     "start_time": "2022-04-05T16:35:07.611506",
     "status": "completed"
    },
    "tags": []
   },
   "outputs": [],
   "source": []
  }
 ],
 "metadata": {
  "kernelspec": {
   "display_name": "Python 3",
   "language": "python",
   "name": "python3"
  },
  "language_info": {
   "codemirror_mode": {
    "name": "ipython",
    "version": 3
   },
   "file_extension": ".py",
   "mimetype": "text/x-python",
   "name": "python",
   "nbconvert_exporter": "python",
   "pygments_lexer": "ipython3",
   "version": "3.7.12"
  },
  "papermill": {
   "default_parameters": {},
   "duration": 97.60634,
   "end_time": "2022-04-05T16:35:11.187946",
   "environment_variables": {},
   "exception": null,
   "input_path": "__notebook__.ipynb",
   "output_path": "__notebook__.ipynb",
   "parameters": {},
   "start_time": "2022-04-05T16:33:33.581606",
   "version": "2.3.3"
  }
 },
 "nbformat": 4,
 "nbformat_minor": 5
}
